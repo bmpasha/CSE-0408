{
 "cells": [
  {
   "cell_type": "code",
   "execution_count": null,
   "id": "010a4646",
   "metadata": {},
   "outputs": [
    {
     "name": "stdout",
     "output_type": "stream",
     "text": [
      "Enter no of Node\n"
     ]
    }
   ],
   "source": [
    "import networkx as nx\n",
    "import matplotlib.pyplot as plt\n",
    "from collections import deque\n",
    "import random\n",
    "\n",
    "def CreateGraph(node, edge):\n",
    "    G = nx.Graph()\n",
    "    for i in range(1, node+1):\n",
    "        G.add_node(i)\n",
    "    for i in range(edge):\n",
    "        u, v = random.randint(1, node), random.randint(1, node)\n",
    "        G.add_edge(u, v) \n",
    "    return G\n",
    "\n",
    "def DrawGraph(G, color):\n",
    "    pos = nx.spring_layout(G)\n",
    "    nx.draw(G, pos, with_labels = True, node_color = color, edge_color = 'black' ,width = 1, alpha = 0.7)\n",
    "\n",
    "def DrawIteratedGraph(G,col_val):\n",
    "    pos = nx.spring_layout(G)\n",
    "    color = [\"green\", \"blue\", \"yellow\", \"pink\", \"red\", \"black\", \"gray\", \"brown\", \"orange\", \"plum\"]\n",
    "    values = []\n",
    "    for node in G.nodes():\n",
    "        values.append(color[col_val[node]])\n",
    "    nx.draw(G, pos, with_labels = True, node_color = values, edge_color = 'black' ,width = 1, alpha = 0.7)\n",
    "\n",
    "def BFS(start):\n",
    "    queue = deque()  \n",
    "    queue.append(start)\n",
    "    visited[start] = True\n",
    "    level[start] = 0\n",
    "    \n",
    "    while queue:\n",
    "        u = queue.popleft()\n",
    "        print(u, \" -> \", end = \"\")\n",
    "        for v in G.adj[u]:\n",
    "            if not visited[v]:\n",
    "                queue.append(v)\n",
    "                visited[v] = True\n",
    "                level[v] = level[u] + 1\n",
    "                \n",
    "        DrawIteratedGraph(G, level)\n",
    "        plt.title('From {}:'.format(u), loc='left')\n",
    "        plt.title('Level {}:'.format(level[u]), loc='right')\n",
    "        plt.show()\n",
    "        \n",
    "    print(\"End\")\n",
    "\n",
    "if __name__ == \"__main__\":\n",
    "    \n",
    "    print(\"Enter no of Node\")\n",
    "    node = int(input())\n",
    "    print(\"Enter no of Edges\")\n",
    "    edge = int(input())\n",
    "    \n",
    "    G = CreateGraph(node, edge)\n",
    "    print(\"Nodes: \", G.nodes)\n",
    "    DrawGraph(G, \"green\")\n",
    "    plt.show()\n",
    "    visited = [False for i in range(node+1)]\n",
    "    level = [0 for i in range(node+1)]\n",
    "    parent = [0 for i in range(node+1)]\n",
    "    root = 1\n",
    "    BFS(root)"
   ]
  },
  {
   "cell_type": "code",
   "execution_count": null,
   "id": "28e22e9f",
   "metadata": {},
   "outputs": [],
   "source": []
  }
 ],
 "metadata": {
  "kernelspec": {
   "display_name": "Python 3",
   "language": "python",
   "name": "python3"
  },
  "language_info": {
   "codemirror_mode": {
    "name": "ipython",
    "version": 3
   },
   "file_extension": ".py",
   "mimetype": "text/x-python",
   "name": "python",
   "nbconvert_exporter": "python",
   "pygments_lexer": "ipython3",
   "version": "3.8.8"
  }
 },
 "nbformat": 4,
 "nbformat_minor": 5
}
